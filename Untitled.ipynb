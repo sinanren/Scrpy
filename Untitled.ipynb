{
 "cells": [
  {
   "cell_type": "code",
   "execution_count": 1,
   "metadata": {},
   "outputs": [],
   "source": [
    "from selenium import webdriver\n",
    "from selenium.webdriver.common.by import By\n",
    "from selenium.webdriver.support.ui import WebDriverWait\n",
    "from selenium.webdriver.support import expected_conditions as EC"
   ]
  },
  {
   "cell_type": "code",
   "execution_count": null,
   "metadata": {},
   "outputs": [],
   "source": [
    "import requests, json, re, random,time\n",
    "from bs4 import BeautifulSoup\n",
    "from selenium import webdriver\n",
    "from lxml import etree\n",
    "import time\n",
    "\n",
    "\n",
    "browser = webdriver.Chrome()\n",
    "browser.get('https://auth.dxy.cn/accounts/login?service=http://www.dxy.cn/bbs/index.html')\n",
    "time.sleep(1)\n",
    "js1 = 'document.querySelector(\"#j_loginTab1\").style.display=\"none\";'\n",
    "browser.execute_script(js1)\n",
    "time.sleep(1)\n",
    "js2 = 'document.querySelector(\"#j_loginTab2\").style.display=\"block\";'\n",
    "browser.execute_script(js2)\n",
    "input_name = browser.find_element_by_name('username')\n",
    "input_name.clear()\n",
    "input_name.send_keys('14768152019')\n",
    "input_pass = browser.find_element_by_name('password')\n",
    "input_pass.clear()\n",
    "input_pass.send_keys('wlan138649')\n",
    "browser.find_element_by_xpath('//*[@class=\"form__button\"]/button').click()\n",
    "time.sleep(10)\n",
    "cookie = browser.get_cookies()\n",
    "cookie_dict = {i['name']:i['value'] for i in cookie}\n",
    "#转到抓取页面\n",
    "browser.get(\"http://www.dxy.cn/bbs/thread/626626#626626\"); \n",
    "html = browser.page_source\n",
    "tree = etree.HTML(html)\n",
    "user = tree.xpath('//div[@id=\"postcontainer\"]//div[@class=\"auth\"]/a/text()')\n",
    "content = tree.xpath('//td[@class=\"postbody\"]')\n",
    "for i in range(0,len(user)):\n",
    "    result = user[i].strip()+\":\"+content[i].xpath('string(.)').strip()\n",
    "    #写入文件\n",
    "    dir_file = open(\"DXY_records.txt\",'a', encoding=\"utf-8\")\n",
    "    dir_file.write(result+\"\\n\")\n",
    "    dir_file.write('*' * 80+\"\\n\")\n",
    "    dir_file.close()\n",
    "    print('*' * 5 +\"抓取结束\"+'*' * 5)"
   ]
  },
  {
   "cell_type": "code",
   "execution_count": 4,
   "metadata": {},
   "outputs": [
    {
     "data": {
      "text/plain": [
       "'0.31558791059086055-1'"
      ]
     },
     "execution_count": 4,
     "metadata": {},
     "output_type": "execute_result"
    }
   ],
   "source": [
    "user_input.id"
   ]
  },
  {
   "cell_type": "code",
   "execution_count": 9,
   "metadata": {},
   "outputs": [
    {
     "data": {
      "text/plain": [
       "'username'"
      ]
     },
     "execution_count": 9,
     "metadata": {},
     "output_type": "execute_result"
    }
   ],
   "source": [
    "user_input.get_attribute('id')"
   ]
  },
  {
   "cell_type": "code",
   "execution_count": 11,
   "metadata": {},
   "outputs": [],
   "source": [
    "pwd_input = wait.until(EC.presence_of_element_located((By.NAME,'password')))\n",
    "login_button = browser.find_element_by_class_name('button')\n",
    "user_input.send_keys('14768152019')\n",
    "pwd_input.send_keys('wlan138649')\n",
    "login_button.click()"
   ]
  },
  {
   "cell_type": "code",
   "execution_count": null,
   "metadata": {},
   "outputs": [],
   "source": []
  }
 ],
 "metadata": {
  "kernelspec": {
   "display_name": "Python 3",
   "language": "python",
   "name": "python3"
  },
  "language_info": {
   "codemirror_mode": {
    "name": "ipython",
    "version": 3
   },
   "file_extension": ".py",
   "mimetype": "text/x-python",
   "name": "python",
   "nbconvert_exporter": "python",
   "pygments_lexer": "ipython3",
   "version": "3.5.4"
  }
 },
 "nbformat": 4,
 "nbformat_minor": 2
}
